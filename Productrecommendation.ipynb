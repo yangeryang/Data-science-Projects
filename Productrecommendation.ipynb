{
 "cells": [
  {
   "cell_type": "markdown",
   "metadata": {},
   "source": [
    "## Product recommendation"
   ]
  },
  {
   "cell_type": "markdown",
   "metadata": {},
   "source": [
    "In this project,we use the purchase data and items data to make recommendation given guest_id. The project will start from data exploration and cleaning, building models using both item based recomendation and model based collaborative filting and then make evaluations"
   ]
  },
  {
   "cell_type": "markdown",
   "metadata": {},
   "source": [
    "## Content"
   ]
  },
  {
   "cell_type": "markdown",
   "metadata": {},
   "source": [
    "* Data exploration\n",
    "* Feature engineering\n",
    "* Building model\n",
    "* Model evaluation\n",
    "* Further work"
   ]
  },
  {
   "cell_type": "markdown",
   "metadata": {},
   "source": [
    "### Data exploration"
   ]
  },
  {
   "cell_type": "markdown",
   "metadata": {},
   "source": [
    "In this part, import and checke the data at first and make some data cleaning if necessary"
   ]
  },
  {
   "cell_type": "code",
   "execution_count": 465,
   "metadata": {
    "collapsed": true
   },
   "outputs": [],
   "source": [
    "#import relevant packages\n",
    "import pandas as pd\n",
    "import numpy as np\n",
    "import os\n",
    "from scipy.sparse import csr_matrix\n",
    "from sklearn.neighbors import NearestNeighbors as knn\n",
    "\n",
    "%matplotlib inline\n",
    "import matplotlib.pyplot as plt\n",
    "import seaborn as sb"
   ]
  },
  {
   "cell_type": "code",
   "execution_count": 455,
   "metadata": {
    "collapsed": true
   },
   "outputs": [],
   "source": [
    "#Directly loading dataset if had alrealy on local disk. otherwise download the dataset via internet and save it to disk\n",
    "if os.path.exists('purchases.csv'):\n",
    "    purchase=pd.read_csv('purchases.csv')\n",
    "else:\n",
    "    url='https://s3-us-west-1.amazonaws.com/shapedata/purchases.csv'\n",
    "    purchase=pd.read_csv(url)\n",
    "    purchase.to_csv(url.split('/')[-1])\n",
    "    \n",
    "if os.path.exists('items.csv'):\n",
    "    items=pd.read_csv('items.csv')\n",
    "else:\n",
    "    url='https://s3-us-west-1.amazonaws.com/shapedata/purchases.csv'\n",
    "    purchase=pd.read_csv(url)\n",
    "    purchase.to_csv(url.split('/')[-1])"
   ]
  },
  {
   "cell_type": "code",
   "execution_count": 3,
   "metadata": {
    "scrolled": true
   },
   "outputs": [
    {
     "data": {
      "text/html": [
       "<div>\n",
       "<table border=\"1\" class=\"dataframe\">\n",
       "  <thead>\n",
       "    <tr style=\"text-align: right;\">\n",
       "      <th></th>\n",
       "      <th>anon_sku</th>\n",
       "      <th>attr</th>\n",
       "    </tr>\n",
       "  </thead>\n",
       "  <tbody>\n",
       "    <tr>\n",
       "      <th>count</th>\n",
       "      <td>16670</td>\n",
       "      <td>16670</td>\n",
       "    </tr>\n",
       "    <tr>\n",
       "      <th>unique</th>\n",
       "      <td>16670</td>\n",
       "      <td>16656</td>\n",
       "    </tr>\n",
       "    <tr>\n",
       "      <th>top</th>\n",
       "      <td>79490</td>\n",
       "      <td>61201 1341 25404 58238 1341 31145 3292 9874 84...</td>\n",
       "    </tr>\n",
       "    <tr>\n",
       "      <th>freq</th>\n",
       "      <td>1</td>\n",
       "      <td>2</td>\n",
       "    </tr>\n",
       "  </tbody>\n",
       "</table>\n",
       "</div>"
      ],
      "text/plain": [
       "       anon_sku                                               attr\n",
       "count     16670                                              16670\n",
       "unique    16670                                              16656\n",
       "top       79490  61201 1341 25404 58238 1341 31145 3292 9874 84...\n",
       "freq          1                                                  2"
      ]
     },
     "execution_count": 3,
     "metadata": {},
     "output_type": "execute_result"
    }
   ],
   "source": [
    "#check the data at first\n",
    "items.describe()"
   ]
  },
  {
   "cell_type": "markdown",
   "metadata": {},
   "source": [
    "* As the table shows, there are 16670 unique items in items tables"
   ]
  },
  {
   "cell_type": "code",
   "execution_count": 456,
   "metadata": {},
   "outputs": [
    {
     "data": {
      "text/html": [
       "<div>\n",
       "<table border=\"1\" class=\"dataframe\">\n",
       "  <thead>\n",
       "    <tr style=\"text-align: right;\">\n",
       "      <th></th>\n",
       "      <th>qty</th>\n",
       "    </tr>\n",
       "  </thead>\n",
       "  <tbody>\n",
       "    <tr>\n",
       "      <th>count</th>\n",
       "      <td>37796.000000</td>\n",
       "    </tr>\n",
       "    <tr>\n",
       "      <th>mean</th>\n",
       "      <td>1.328357</td>\n",
       "    </tr>\n",
       "    <tr>\n",
       "      <th>std</th>\n",
       "      <td>1.135054</td>\n",
       "    </tr>\n",
       "    <tr>\n",
       "      <th>min</th>\n",
       "      <td>-1.000000</td>\n",
       "    </tr>\n",
       "    <tr>\n",
       "      <th>25%</th>\n",
       "      <td>1.000000</td>\n",
       "    </tr>\n",
       "    <tr>\n",
       "      <th>50%</th>\n",
       "      <td>1.000000</td>\n",
       "    </tr>\n",
       "    <tr>\n",
       "      <th>75%</th>\n",
       "      <td>1.000000</td>\n",
       "    </tr>\n",
       "    <tr>\n",
       "      <th>max</th>\n",
       "      <td>63.000000</td>\n",
       "    </tr>\n",
       "  </tbody>\n",
       "</table>\n",
       "</div>"
      ],
      "text/plain": [
       "                qty\n",
       "count  37796.000000\n",
       "mean       1.328357\n",
       "std        1.135054\n",
       "min       -1.000000\n",
       "25%        1.000000\n",
       "50%        1.000000\n",
       "75%        1.000000\n",
       "max       63.000000"
      ]
     },
     "execution_count": 456,
     "metadata": {},
     "output_type": "execute_result"
    }
   ],
   "source": [
    "#check the purchase data\n",
    "purchase.describe()"
   ]
  },
  {
   "cell_type": "markdown",
   "metadata": {},
   "source": [
    "* It is interesting to see that min value of qty is negative value(-1) rathen than zero, one possible reason may be the guest return the item they purchased before,or the data is invalid,it is common that customer returned the item once they found unstatisfied, so in this case we do nothing on the negative values "
   ]
  },
  {
   "cell_type": "code",
   "execution_count": 460,
   "metadata": {},
   "outputs": [
    {
     "data": {
      "text/plain": [
       "Index([u'qty', u'item_i', u'gst_i', u'purchase_d'], dtype='object')"
      ]
     },
     "execution_count": 460,
     "metadata": {},
     "output_type": "execute_result"
    }
   ],
   "source": [
    "purchase.columns"
   ]
  },
  {
   "cell_type": "code",
   "execution_count": 461,
   "metadata": {},
   "outputs": [
    {
     "data": {
      "text/plain": [
       "count      37698\n",
       "unique     17429\n",
       "top       109559\n",
       "freq          98\n",
       "Name: item_i, dtype: object"
      ]
     },
     "execution_count": 461,
     "metadata": {},
     "output_type": "execute_result"
    }
   ],
   "source": [
    "#check data of item id\n",
    "purchase['item_i'].describe()"
   ]
  },
  {
   "cell_type": "markdown",
   "metadata": {},
   "source": [
    "* There are 17429 unique items in purchase table, the number of unique items in purchase data is larger than number in items table"
   ]
  },
  {
   "cell_type": "code",
   "execution_count": 462,
   "metadata": {
    "scrolled": true
   },
   "outputs": [
    {
     "data": {
      "text/plain": [
       "count       37796\n",
       "unique       1002\n",
       "top       1904015\n",
       "freq          281\n",
       "Name: gst_i, dtype: object"
      ]
     },
     "execution_count": 462,
     "metadata": {},
     "output_type": "execute_result"
    }
   ],
   "source": [
    "#checek the gst_id \n",
    "purchase['gst_i'].describe()"
   ]
  },
  {
   "cell_type": "markdown",
   "metadata": {},
   "source": [
    "* There are 1002 unique guests appearing in purchase table, it seems there are many loyalty consumers and purchased much for comparing number of purchases(37796) to number of guest(1002)"
   ]
  },
  {
   "cell_type": "code",
   "execution_count": 5,
   "metadata": {},
   "outputs": [
    {
     "data": {
      "text/html": [
       "<div>\n",
       "<table border=\"1\" class=\"dataframe\">\n",
       "  <thead>\n",
       "    <tr style=\"text-align: right;\">\n",
       "      <th></th>\n",
       "      <th>qty</th>\n",
       "    </tr>\n",
       "  </thead>\n",
       "  <tbody>\n",
       "    <tr>\n",
       "      <th>count</th>\n",
       "      <td>37796.000000</td>\n",
       "    </tr>\n",
       "    <tr>\n",
       "      <th>mean</th>\n",
       "      <td>1.333542</td>\n",
       "    </tr>\n",
       "    <tr>\n",
       "      <th>std</th>\n",
       "      <td>1.128956</td>\n",
       "    </tr>\n",
       "    <tr>\n",
       "      <th>min</th>\n",
       "      <td>0.140000</td>\n",
       "    </tr>\n",
       "    <tr>\n",
       "      <th>25%</th>\n",
       "      <td>1.000000</td>\n",
       "    </tr>\n",
       "    <tr>\n",
       "      <th>50%</th>\n",
       "      <td>1.000000</td>\n",
       "    </tr>\n",
       "    <tr>\n",
       "      <th>75%</th>\n",
       "      <td>1.000000</td>\n",
       "    </tr>\n",
       "    <tr>\n",
       "      <th>max</th>\n",
       "      <td>63.000000</td>\n",
       "    </tr>\n",
       "  </tbody>\n",
       "</table>\n",
       "</div>"
      ],
      "text/plain": [
       "                qty\n",
       "count  37796.000000\n",
       "mean       1.333542\n",
       "std        1.128956\n",
       "min        0.140000\n",
       "25%        1.000000\n",
       "50%        1.000000\n",
       "75%        1.000000\n",
       "max       63.000000"
      ]
     },
     "execution_count": 5,
     "metadata": {},
     "output_type": "execute_result"
    }
   ],
   "source": [
    "#replace the negative value with\n",
    "purchase['qty']=purchase['qty'].replace(-1,0)\n",
    "purchase.describe()"
   ]
  },
  {
   "cell_type": "code",
   "execution_count": 6,
   "metadata": {
    "scrolled": true
   },
   "outputs": [
    {
     "data": {
      "text/plain": [
       "qty           0.000000\n",
       "item_i        0.002593\n",
       "gst_i         0.000000\n",
       "purchase_d    0.000000\n",
       "dtype: float64"
      ]
     },
     "execution_count": 6,
     "metadata": {},
     "output_type": "execute_result"
    }
   ],
   "source": [
    "#check if there is any missing values\n",
    "purchase.isnull().sum()/purchase.shape[0]"
   ]
  },
  {
   "cell_type": "markdown",
   "metadata": {},
   "source": [
    "There are some missing values in item_i,decide to remove them for it only takes up only 0.25% of total number"
   ]
  },
  {
   "cell_type": "code",
   "execution_count": 7,
   "metadata": {},
   "outputs": [
    {
     "data": {
      "text/plain": [
       "qty           0.0\n",
       "item_i        0.0\n",
       "gst_i         0.0\n",
       "purchase_d    0.0\n",
       "dtype: float64"
      ]
     },
     "execution_count": 7,
     "metadata": {},
     "output_type": "execute_result"
    }
   ],
   "source": [
    "#remove the rows with missing values in item_i\n",
    "if purchase['item_i'].isnull().sum()>0:\n",
    "    purchase=purchase.dropna(axis=0,subset=['item_i'])\n",
    "purchase.isnull().sum()/purchase.shape[0]"
   ]
  },
  {
   "cell_type": "markdown",
   "metadata": {},
   "source": [
    "### Feature engineering"
   ]
  },
  {
   "cell_type": "markdown",
   "metadata": {},
   "source": [
    "In this part, we create new feature of total_quantities that measures the total sells for each item and get better sense of \n",
    "popular items"
   ]
  },
  {
   "cell_type": "code",
   "execution_count": 9,
   "metadata": {},
   "outputs": [
    {
     "name": "stderr",
     "output_type": "stream",
     "text": [
      "C:\\Users\\yange\\Anaconda2\\lib\\site-packages\\ipykernel\\__main__.py:2: FutureWarning: sort(columns=....) is deprecated, use sort_values(by=.....)\n",
      "  from ipykernel import kernelapp as app\n"
     ]
    },
    {
     "data": {
      "text/html": [
       "<div>\n",
       "<table border=\"1\" class=\"dataframe\">\n",
       "  <thead>\n",
       "    <tr style=\"text-align: right;\">\n",
       "      <th></th>\n",
       "      <th>item_i</th>\n",
       "      <th>total_quantities</th>\n",
       "    </tr>\n",
       "  </thead>\n",
       "  <tbody>\n",
       "    <tr>\n",
       "      <th>1777</th>\n",
       "      <td>109559</td>\n",
       "      <td>371.87</td>\n",
       "    </tr>\n",
       "    <tr>\n",
       "      <th>11462</th>\n",
       "      <td>46061</td>\n",
       "      <td>121.00</td>\n",
       "    </tr>\n",
       "    <tr>\n",
       "      <th>11718</th>\n",
       "      <td>47330</td>\n",
       "      <td>111.00</td>\n",
       "    </tr>\n",
       "    <tr>\n",
       "      <th>11712</th>\n",
       "      <td>47323</td>\n",
       "      <td>101.00</td>\n",
       "    </tr>\n",
       "    <tr>\n",
       "      <th>1938</th>\n",
       "      <td>110407</td>\n",
       "      <td>96.06</td>\n",
       "    </tr>\n",
       "  </tbody>\n",
       "</table>\n",
       "</div>"
      ],
      "text/plain": [
       "       item_i  total_quantities\n",
       "1777   109559            371.87\n",
       "11462   46061            121.00\n",
       "11718   47330            111.00\n",
       "11712   47323            101.00\n",
       "1938   110407             96.06"
      ]
     },
     "execution_count": 9,
     "metadata": {},
     "output_type": "execute_result"
    }
   ],
   "source": [
    "#Create the new feature that represents total sells for each item across all guests\n",
    "purchase_number=purchase.groupby(['item_i'])['qty'].sum().reset_index().rename(columns={'qty':'total_quantities'})\n",
    "purchase_number.sort(['total_quantities'],ascending=False).head(5)purchase_merge=purchase.merge(purchase_number,left_on='item_i',right_on='item_i',how='left')\n",
    "purchase_merge.head()"
   ]
  },
  {
   "cell_type": "code",
   "execution_count": 467,
   "metadata": {},
   "outputs": [
    {
     "data": {
      "text/html": [
       "<div>\n",
       "<table border=\"1\" class=\"dataframe\">\n",
       "  <thead>\n",
       "    <tr style=\"text-align: right;\">\n",
       "      <th></th>\n",
       "      <th>qty</th>\n",
       "      <th>total_quantities</th>\n",
       "    </tr>\n",
       "  </thead>\n",
       "  <tbody>\n",
       "    <tr>\n",
       "      <th>count</th>\n",
       "      <td>37698.000000</td>\n",
       "      <td>37698.000000</td>\n",
       "    </tr>\n",
       "    <tr>\n",
       "      <th>mean</th>\n",
       "      <td>1.333829</td>\n",
       "      <td>8.290600</td>\n",
       "    </tr>\n",
       "    <tr>\n",
       "      <th>std</th>\n",
       "      <td>1.129929</td>\n",
       "      <td>22.314439</td>\n",
       "    </tr>\n",
       "    <tr>\n",
       "      <th>min</th>\n",
       "      <td>0.140000</td>\n",
       "      <td>0.300000</td>\n",
       "    </tr>\n",
       "    <tr>\n",
       "      <th>25%</th>\n",
       "      <td>1.000000</td>\n",
       "      <td>2.000000</td>\n",
       "    </tr>\n",
       "    <tr>\n",
       "      <th>50%</th>\n",
       "      <td>1.000000</td>\n",
       "      <td>3.480000</td>\n",
       "    </tr>\n",
       "    <tr>\n",
       "      <th>75%</th>\n",
       "      <td>1.000000</td>\n",
       "      <td>8.000000</td>\n",
       "    </tr>\n",
       "    <tr>\n",
       "      <th>max</th>\n",
       "      <td>63.000000</td>\n",
       "      <td>371.870000</td>\n",
       "    </tr>\n",
       "  </tbody>\n",
       "</table>\n",
       "</div>"
      ],
      "text/plain": [
       "                qty  total_quantities\n",
       "count  37698.000000      37698.000000\n",
       "mean       1.333829          8.290600\n",
       "std        1.129929         22.314439\n",
       "min        0.140000          0.300000\n",
       "25%        1.000000          2.000000\n",
       "50%        1.000000          3.480000\n",
       "75%        1.000000          8.000000\n",
       "max       63.000000        371.870000"
      ]
     },
     "execution_count": 467,
     "metadata": {},
     "output_type": "execute_result"
    }
   ],
   "source": [
    "purchase_merge.describe()"
   ]
  },
  {
   "cell_type": "markdown",
   "metadata": {},
   "source": [
    "* The total_quantitties appears to be left skewed distributed with mean 8.29, and top four popular items,their total quantities exceed 100"
   ]
  },
  {
   "cell_type": "code",
   "execution_count": 10,
   "metadata": {},
   "outputs": [
    {
     "data": {
      "text/html": [
       "<div>\n",
       "<table border=\"1\" class=\"dataframe\">\n",
       "  <thead>\n",
       "    <tr style=\"text-align: right;\">\n",
       "      <th></th>\n",
       "      <th>qty</th>\n",
       "      <th>item_i</th>\n",
       "      <th>gst_i</th>\n",
       "      <th>purchase_d</th>\n",
       "      <th>total_quantities</th>\n",
       "    </tr>\n",
       "  </thead>\n",
       "  <tbody>\n",
       "    <tr>\n",
       "      <th>0</th>\n",
       "      <td>4.0</td>\n",
       "      <td>122464</td>\n",
       "      <td>2639949</td>\n",
       "      <td>23/08/2016_00:00:00</td>\n",
       "      <td>11.0</td>\n",
       "    </tr>\n",
       "    <tr>\n",
       "      <th>1</th>\n",
       "      <td>1.0</td>\n",
       "      <td>99091</td>\n",
       "      <td>4935278</td>\n",
       "      <td>16/08/2015_00:00:00</td>\n",
       "      <td>14.0</td>\n",
       "    </tr>\n",
       "    <tr>\n",
       "      <th>2</th>\n",
       "      <td>1.0</td>\n",
       "      <td>119976</td>\n",
       "      <td>3479638</td>\n",
       "      <td>18/12/2015_00:00:00</td>\n",
       "      <td>2.0</td>\n",
       "    </tr>\n",
       "    <tr>\n",
       "      <th>3</th>\n",
       "      <td>1.0</td>\n",
       "      <td>22501</td>\n",
       "      <td>257693</td>\n",
       "      <td>06/08/2016_00:00:00</td>\n",
       "      <td>4.0</td>\n",
       "    </tr>\n",
       "    <tr>\n",
       "      <th>4</th>\n",
       "      <td>1.0</td>\n",
       "      <td>23785</td>\n",
       "      <td>1912070</td>\n",
       "      <td>06/01/2016_00:00:00</td>\n",
       "      <td>6.0</td>\n",
       "    </tr>\n",
       "  </tbody>\n",
       "</table>\n",
       "</div>"
      ],
      "text/plain": [
       "   qty  item_i    gst_i           purchase_d  total_quantities\n",
       "0  4.0  122464  2639949  23/08/2016_00:00:00              11.0\n",
       "1  1.0   99091  4935278  16/08/2015_00:00:00              14.0\n",
       "2  1.0  119976  3479638  18/12/2015_00:00:00               2.0\n",
       "3  1.0   22501   257693  06/08/2016_00:00:00               4.0\n",
       "4  1.0   23785  1912070  06/01/2016_00:00:00               6.0"
      ]
     },
     "execution_count": 10,
     "metadata": {},
     "output_type": "execute_result"
    }
   ],
   "source": [
    "#merge the origial purchase data with total quantities with left join\n",
    "purchase_merge=purchase.merge(purchase_number,left_on='item_i',right_on='item_i',how='left')\n",
    "purchase_merge.head()"
   ]
  },
  {
   "cell_type": "code",
   "execution_count": 17,
   "metadata": {},
   "outputs": [
    {
     "data": {
      "text/plain": [
       "<14690x1001 sparse matrix of type '<type 'numpy.float64'>'\n",
       "\twith 28273 stored elements in Compressed Sparse Row format>"
      ]
     },
     "execution_count": 17,
     "metadata": {},
     "output_type": "execute_result"
    }
   ],
   "source": [
    "#Convert the data into m*n matrix, m is the number of items, and n is the number of guest_id\n",
    "train_pivot=train_data.pivot(index='item_i',columns='gst_i',values='qty').fillna(0)\n",
    "#convert to sparse matrix\n",
    "train_matrix=csr_matrix(train_pivot.values)\n",
    "train_matrix\n",
    "\n",
    "#Convert the data into m*n matrix, m is the number of items, and n is the number of guest_id\n",
    "test_pivot=train_data.pivot(index='item_i',columns='gst_i',values='qty').fillna(0)\n",
    "#convert to sparse matrix\n",
    "test_matrix=csr_matrix(train_pivot.values)\n",
    "test_matrix\n",
    "\n"
   ]
  },
  {
   "cell_type": "markdown",
   "metadata": {},
   "source": [
    "### Building Model"
   ]
  },
  {
   "cell_type": "markdown",
   "metadata": {},
   "source": [
    "In this part,we will build two models to approach product recommendations,the first one is item based recommendation based on similaries between items\n",
    "the other one is from model based recommendation, which uses matrix decomposition to learn the latent factors of guest and then make recommendations"
   ]
  },
  {
   "cell_type": "markdown",
   "metadata": {},
   "source": [
    "#### Item based recommendation"
   ]
  },
  {
   "cell_type": "markdown",
   "metadata": {},
   "source": [
    "* First, get all item id product the guest purchased from purchase_merge table\n",
    "* Second, select the item the guest purchased most with largest qty(quantity purchased) value as popular item\n",
    "* Third, select the top k similar item ids to popular item that the guest have not purchased,using K Nearest Neightbors\n",
    "* Finaly, use the item ids get from third step to select items from item table and ouput recommendation results."
   ]
  },
  {
   "cell_type": "code",
   "execution_count": 438,
   "metadata": {
    "collapsed": true
   },
   "outputs": [],
   "source": [
    "#define the function to make recommendation given guest_id, the input parameter includes guest_id, number of item recommendations,purchase data, and item data\n",
    "#The output is items recommendation in DataFrame\n",
    "def item_based_recommend(guest_id,n_recommend,purchase_merge,item_data):\n",
    "\n",
    "    #get most popular item the guest has purchased most\n",
    "    popular_item=purchase_merge[purchase_merge['gst_i']==guest_id].sort_values(by='qty',ascending=False,axis=0).reset_index()['item_i'][0]\n",
    "    \n",
    "    #convert the purchase data to pivoit table, with row representing item id and columns representing guest id\n",
    "    purchase_pivot=pd.pivot_table(purchase_merge,values='qty',index='item_i',columns='gst_i').fillna(0)\n",
    "\n",
    "    #find the items that the guest has not purchased and most popular item into not brought table.\n",
    "    #This table will be used to calculate smiliarity, recommendations items will be from not brought table\n",
    "    not_bought=purchase_pivot[purchase_pivot[guest_id]==0]\n",
    "    not_bought=not_bought.append(purchase_pivot[purchase_pivot.index==popular_item])\n",
    "    \n",
    "    #get the index of most popular item\n",
    "    item_index=np.where(not_bought.index==popular_item)[0][0]\n",
    "    \n",
    "    \n",
    "    #convert to sparse matrix\n",
    "    not_bought_sparse=csr_matrix(not_bought.values)\n",
    "    \n",
    "    #train knn model using cosine to calculate the similarities between item vectors \n",
    "    model_knn=knn(metric='cosine',algorithm='brute')\n",
    "    model_knn.fit(not_bought_sparse)\n",
    "    \n",
    "    \n",
    "    #get the number of n_recommend similar item vectors, store the distance(similarity) and item ids into distances and indices respectively\n",
    "    distances,indices=model_knn.kneighbors(not_bought.iloc[item_index,:].reshape(1,-1),n_recommend)\n",
    "    \n",
    "    #select the items from item table based on item id get from previous steps\n",
    "    #start from the second element in indice for first element is  popular item itself\n",
    "    recommendations=item_data[item_data['anon_sku'].isin(indices[1:].flatten())]\n",
    "\n",
    "    return recommendations"
   ]
  },
  {
   "cell_type": "code",
   "execution_count": 447,
   "metadata": {
    "scrolled": true
   },
   "outputs": [
    {
     "name": "stderr",
     "output_type": "stream",
     "text": [
      "C:\\Users\\yange\\Anaconda2\\lib\\site-packages\\ipykernel\\__main__.py:21: FutureWarning: reshape is deprecated and will raise in a subsequent release. Please use .values.reshape(...) instead\n"
     ]
    }
   ],
   "source": [
    "#make recommendations for 2639949 guest for 10 items.\n",
    "recommendations=item_based_recommend('2639949',10,purchase_merge,items)"
   ]
  },
  {
   "cell_type": "code",
   "execution_count": 448,
   "metadata": {},
   "outputs": [
    {
     "data": {
      "text/html": [
       "<div>\n",
       "<table border=\"1\" class=\"dataframe\">\n",
       "  <thead>\n",
       "    <tr style=\"text-align: right;\">\n",
       "      <th></th>\n",
       "      <th>anon_sku</th>\n",
       "      <th>attr</th>\n",
       "    </tr>\n",
       "  </thead>\n",
       "  <tbody>\n",
       "    <tr>\n",
       "      <th>1778</th>\n",
       "      <td>198270</td>\n",
       "      <td>51358 17140 53622 61530 56575 63269 29701 2815...</td>\n",
       "    </tr>\n",
       "    <tr>\n",
       "      <th>3361</th>\n",
       "      <td>53428</td>\n",
       "      <td>45564 57263 15517 7251 56227 19676 12730 6539 ...</td>\n",
       "    </tr>\n",
       "    <tr>\n",
       "      <th>5094</th>\n",
       "      <td>211585</td>\n",
       "      <td>27237 21839 5404 58908 59863 44925 48941 48525...</td>\n",
       "    </tr>\n",
       "    <tr>\n",
       "      <th>6722</th>\n",
       "      <td>5512</td>\n",
       "      <td>41702 26250 58807 30594 59348 60110 44902 1967...</td>\n",
       "    </tr>\n",
       "    <tr>\n",
       "      <th>8223</th>\n",
       "      <td>15776</td>\n",
       "      <td>40918 9361 45716 4163 56161 6809 45328 29701 4...</td>\n",
       "    </tr>\n",
       "    <tr>\n",
       "      <th>9985</th>\n",
       "      <td>95946</td>\n",
       "      <td>19273 51192 22591 28361 43218 28361 61461 1940...</td>\n",
       "    </tr>\n",
       "  </tbody>\n",
       "</table>\n",
       "</div>"
      ],
      "text/plain": [
       "     anon_sku                                               attr\n",
       "1778   198270  51358 17140 53622 61530 56575 63269 29701 2815...\n",
       "3361    53428  45564 57263 15517 7251 56227 19676 12730 6539 ...\n",
       "5094   211585  27237 21839 5404 58908 59863 44925 48941 48525...\n",
       "6722     5512  41702 26250 58807 30594 59348 60110 44902 1967...\n",
       "8223    15776  40918 9361 45716 4163 56161 6809 45328 29701 4...\n",
       "9985    95946  19273 51192 22591 28361 43218 28361 61461 1940..."
      ]
     },
     "execution_count": 448,
     "metadata": {},
     "output_type": "execute_result"
    }
   ],
   "source": [
    "#output the recommendation results\n",
    "recommendations"
   ]
  },
  {
   "cell_type": "code",
   "execution_count": 443,
   "metadata": {
    "scrolled": true
   },
   "outputs": [
    {
     "data": {
      "text/plain": [
       "17429"
      ]
     },
     "execution_count": 443,
     "metadata": {},
     "output_type": "execute_result"
    }
   ],
   "source": [
    "len(np.unique(purchase_merge['item_i']))"
   ]
  },
  {
   "cell_type": "code",
   "execution_count": 444,
   "metadata": {},
   "outputs": [
    {
     "data": {
      "text/plain": [
       "16670"
      ]
     },
     "execution_count": 444,
     "metadata": {},
     "output_type": "execute_result"
    }
   ],
   "source": [
    "len(np.unique(items['anon_sku']))"
   ]
  },
  {
   "cell_type": "markdown",
   "metadata": {},
   "source": [
    "* It is interesting to see that number of recommendations is less than 10, that is to say some items that are from purchase table actually do not exist in items table, the number of unique items in purchase table is 17429, while in items table, it is 16670\n",
    "* One reasone may be there is no stock for some items or stop selling right now, but there are some purchases records previously"
   ]
  },
  {
   "cell_type": "markdown",
   "metadata": {},
   "source": [
    "#### Model based using matrix factorization"
   ]
  },
  {
   "cell_type": "markdown",
   "metadata": {},
   "source": [
    "* we use the matrix factorization to find the latent preferences for guest as well as latent attributes for items,for user based and item based collaborative filtering\n",
    "may not reflect well for guest preference or similarities between guests.Also, purchase marix can be built in low rank structure, which could be scaled well in large dataset\n",
    "* Recommendation output would be k most high predicted qty(quantity purchased)items ids that guest has not purchased before"
   ]
  },
  {
   "cell_type": "code",
   "execution_count": 155,
   "metadata": {
    "scrolled": true
   },
   "outputs": [
    {
     "data": {
      "text/html": [
       "<div>\n",
       "<table border=\"1\" class=\"dataframe\">\n",
       "  <thead>\n",
       "    <tr style=\"text-align: right;\">\n",
       "      <th>item_i</th>\n",
       "      <th>100002</th>\n",
       "      <th>100003</th>\n",
       "      <th>100005</th>\n",
       "      <th>100007</th>\n",
       "      <th>100018</th>\n",
       "      <th>100021</th>\n",
       "      <th>100025</th>\n",
       "      <th>100026</th>\n",
       "      <th>100030</th>\n",
       "      <th>100033</th>\n",
       "      <th>...</th>\n",
       "      <th>99974</th>\n",
       "      <th>99983</th>\n",
       "      <th>99984</th>\n",
       "      <th>99986</th>\n",
       "      <th>99993</th>\n",
       "      <th>99996</th>\n",
       "      <th>99998</th>\n",
       "      <th>99999</th>\n",
       "      <th>?</th>\n",
       "      <th>���?���</th>\n",
       "    </tr>\n",
       "    <tr>\n",
       "      <th>gst_i</th>\n",
       "      <th></th>\n",
       "      <th></th>\n",
       "      <th></th>\n",
       "      <th></th>\n",
       "      <th></th>\n",
       "      <th></th>\n",
       "      <th></th>\n",
       "      <th></th>\n",
       "      <th></th>\n",
       "      <th></th>\n",
       "      <th></th>\n",
       "      <th></th>\n",
       "      <th></th>\n",
       "      <th></th>\n",
       "      <th></th>\n",
       "      <th></th>\n",
       "      <th></th>\n",
       "      <th></th>\n",
       "      <th></th>\n",
       "      <th></th>\n",
       "      <th></th>\n",
       "    </tr>\n",
       "  </thead>\n",
       "  <tbody>\n",
       "    <tr>\n",
       "      <th>1009636</th>\n",
       "      <td>0.0</td>\n",
       "      <td>0.0</td>\n",
       "      <td>0.0</td>\n",
       "      <td>0.0</td>\n",
       "      <td>0.0</td>\n",
       "      <td>0.0</td>\n",
       "      <td>0.0</td>\n",
       "      <td>0.0</td>\n",
       "      <td>0.0</td>\n",
       "      <td>0.0</td>\n",
       "      <td>...</td>\n",
       "      <td>0.0</td>\n",
       "      <td>0.0</td>\n",
       "      <td>0.0</td>\n",
       "      <td>0.0</td>\n",
       "      <td>0.0</td>\n",
       "      <td>0.0</td>\n",
       "      <td>0.0</td>\n",
       "      <td>0.0</td>\n",
       "      <td>0.0</td>\n",
       "      <td>0.0</td>\n",
       "    </tr>\n",
       "    <tr>\n",
       "      <th>101393</th>\n",
       "      <td>0.0</td>\n",
       "      <td>0.0</td>\n",
       "      <td>0.0</td>\n",
       "      <td>0.0</td>\n",
       "      <td>0.0</td>\n",
       "      <td>0.0</td>\n",
       "      <td>0.0</td>\n",
       "      <td>0.0</td>\n",
       "      <td>0.0</td>\n",
       "      <td>0.0</td>\n",
       "      <td>...</td>\n",
       "      <td>0.0</td>\n",
       "      <td>0.0</td>\n",
       "      <td>0.0</td>\n",
       "      <td>0.0</td>\n",
       "      <td>0.0</td>\n",
       "      <td>0.0</td>\n",
       "      <td>0.0</td>\n",
       "      <td>0.0</td>\n",
       "      <td>0.0</td>\n",
       "      <td>0.0</td>\n",
       "    </tr>\n",
       "    <tr>\n",
       "      <th>1014290</th>\n",
       "      <td>0.0</td>\n",
       "      <td>0.0</td>\n",
       "      <td>0.0</td>\n",
       "      <td>0.0</td>\n",
       "      <td>0.0</td>\n",
       "      <td>0.0</td>\n",
       "      <td>0.0</td>\n",
       "      <td>0.0</td>\n",
       "      <td>0.0</td>\n",
       "      <td>0.0</td>\n",
       "      <td>...</td>\n",
       "      <td>0.0</td>\n",
       "      <td>0.0</td>\n",
       "      <td>0.0</td>\n",
       "      <td>0.0</td>\n",
       "      <td>0.0</td>\n",
       "      <td>0.0</td>\n",
       "      <td>0.0</td>\n",
       "      <td>0.0</td>\n",
       "      <td>0.0</td>\n",
       "      <td>0.0</td>\n",
       "    </tr>\n",
       "    <tr>\n",
       "      <th>1017018</th>\n",
       "      <td>0.0</td>\n",
       "      <td>0.0</td>\n",
       "      <td>0.0</td>\n",
       "      <td>0.0</td>\n",
       "      <td>0.0</td>\n",
       "      <td>0.0</td>\n",
       "      <td>0.0</td>\n",
       "      <td>0.0</td>\n",
       "      <td>0.0</td>\n",
       "      <td>0.0</td>\n",
       "      <td>...</td>\n",
       "      <td>0.0</td>\n",
       "      <td>0.0</td>\n",
       "      <td>0.0</td>\n",
       "      <td>0.0</td>\n",
       "      <td>0.0</td>\n",
       "      <td>0.0</td>\n",
       "      <td>0.0</td>\n",
       "      <td>0.0</td>\n",
       "      <td>0.0</td>\n",
       "      <td>0.0</td>\n",
       "    </tr>\n",
       "    <tr>\n",
       "      <th>1020846</th>\n",
       "      <td>0.0</td>\n",
       "      <td>0.0</td>\n",
       "      <td>0.0</td>\n",
       "      <td>0.0</td>\n",
       "      <td>0.0</td>\n",
       "      <td>0.0</td>\n",
       "      <td>0.0</td>\n",
       "      <td>0.0</td>\n",
       "      <td>0.0</td>\n",
       "      <td>0.0</td>\n",
       "      <td>...</td>\n",
       "      <td>0.0</td>\n",
       "      <td>0.0</td>\n",
       "      <td>0.0</td>\n",
       "      <td>0.0</td>\n",
       "      <td>0.0</td>\n",
       "      <td>0.0</td>\n",
       "      <td>0.0</td>\n",
       "      <td>0.0</td>\n",
       "      <td>0.0</td>\n",
       "      <td>0.0</td>\n",
       "    </tr>\n",
       "  </tbody>\n",
       "</table>\n",
       "<p>5 rows × 17429 columns</p>\n",
       "</div>"
      ],
      "text/plain": [
       "item_i   100002  100003  100005  100007  100018  100021  100025  100026  \\\n",
       "gst_i                                                                     \n",
       "1009636     0.0     0.0     0.0     0.0     0.0     0.0     0.0     0.0   \n",
       "101393      0.0     0.0     0.0     0.0     0.0     0.0     0.0     0.0   \n",
       "1014290     0.0     0.0     0.0     0.0     0.0     0.0     0.0     0.0   \n",
       "1017018     0.0     0.0     0.0     0.0     0.0     0.0     0.0     0.0   \n",
       "1020846     0.0     0.0     0.0     0.0     0.0     0.0     0.0     0.0   \n",
       "\n",
       "item_i   100030  100033   ...     99974  99983  99984  99986  99993  99996  \\\n",
       "gst_i                     ...                                                \n",
       "1009636     0.0     0.0   ...       0.0    0.0    0.0    0.0    0.0    0.0   \n",
       "101393      0.0     0.0   ...       0.0    0.0    0.0    0.0    0.0    0.0   \n",
       "1014290     0.0     0.0   ...       0.0    0.0    0.0    0.0    0.0    0.0   \n",
       "1017018     0.0     0.0   ...       0.0    0.0    0.0    0.0    0.0    0.0   \n",
       "1020846     0.0     0.0   ...       0.0    0.0    0.0    0.0    0.0    0.0   \n",
       "\n",
       "item_i   99998  99999    ?  ���?���  \n",
       "gst_i                                \n",
       "1009636    0.0    0.0  0.0      0.0  \n",
       "101393     0.0    0.0  0.0      0.0  \n",
       "1014290    0.0    0.0  0.0      0.0  \n",
       "1017018    0.0    0.0  0.0      0.0  \n",
       "1020846    0.0    0.0  0.0      0.0  \n",
       "\n",
       "[5 rows x 17429 columns]"
      ]
     },
     "execution_count": 155,
     "metadata": {},
     "output_type": "execute_result"
    }
   ],
   "source": [
    "#convert the purchase_data to pivot table with rows representing guest and columns representing items\n",
    "purchase_svd=pd.pivot_table(purchase_merge,values='qty',index='gst_i',columns='item_i').fillna(0)\n",
    "purchase_svd.head()"
   ]
  },
  {
   "cell_type": "code",
   "execution_count": 156,
   "metadata": {
    "collapsed": true
   },
   "outputs": [],
   "source": [
    "#demean the values in matrix \n",
    "purchase_svd_matrix=purchase_svd.as_matrix()\n",
    "gst_purchase_mean=np.mean(purchase_svd_matrix,axis=1)\n",
    "purchase_svd_demean=purchase_svd_matrix-gst_purchase_mean.reshape(-1,1)"
   ]
  },
  {
   "cell_type": "code",
   "execution_count": 157,
   "metadata": {
    "collapsed": true
   },
   "outputs": [],
   "source": [
    "#After normalization, SVD will be used to decompose matrix\n",
    "from scipy.sparse.linalg import svds\n",
    "U, sigma, Vt = svds(purchase_svd_demean, k = 40)\n",
    "\n",
    "sigma = np.diag(sigma)"
   ]
  },
  {
   "cell_type": "markdown",
   "metadata": {},
   "source": [
    "In this case matrix u learns guest latent features or preferences, matrix v records the latent features of items, the value of k  should be selected using cross validation,for simplicity, we set k=40 to select top 40 most important features."
   ]
  },
  {
   "cell_type": "code",
   "execution_count": 520,
   "metadata": {},
   "outputs": [
    {
     "data": {
      "text/html": [
       "<div>\n",
       "<table border=\"1\" class=\"dataframe\">\n",
       "  <thead>\n",
       "    <tr style=\"text-align: right;\">\n",
       "      <th>item_i</th>\n",
       "      <th>100002</th>\n",
       "      <th>100003</th>\n",
       "      <th>100005</th>\n",
       "      <th>100007</th>\n",
       "      <th>100018</th>\n",
       "      <th>100021</th>\n",
       "      <th>100025</th>\n",
       "      <th>100026</th>\n",
       "      <th>100030</th>\n",
       "      <th>100033</th>\n",
       "      <th>...</th>\n",
       "      <th>99974</th>\n",
       "      <th>99983</th>\n",
       "      <th>99984</th>\n",
       "      <th>99986</th>\n",
       "      <th>99993</th>\n",
       "      <th>99996</th>\n",
       "      <th>99998</th>\n",
       "      <th>99999</th>\n",
       "      <th>?</th>\n",
       "      <th>���?���</th>\n",
       "    </tr>\n",
       "  </thead>\n",
       "  <tbody>\n",
       "    <tr>\n",
       "      <th>0</th>\n",
       "      <td>0.000171</td>\n",
       "      <td>0.000478</td>\n",
       "      <td>0.000306</td>\n",
       "      <td>0.000154</td>\n",
       "      <td>-0.000764</td>\n",
       "      <td>-0.014531</td>\n",
       "      <td>-0.000894</td>\n",
       "      <td>0.000474</td>\n",
       "      <td>0.000176</td>\n",
       "      <td>0.000196</td>\n",
       "      <td>...</td>\n",
       "      <td>0.000343</td>\n",
       "      <td>-0.002289</td>\n",
       "      <td>0.013369</td>\n",
       "      <td>0.000541</td>\n",
       "      <td>0.002599</td>\n",
       "      <td>-0.002128</td>\n",
       "      <td>0.000717</td>\n",
       "      <td>0.010015</td>\n",
       "      <td>0.000529</td>\n",
       "      <td>0.000064</td>\n",
       "    </tr>\n",
       "    <tr>\n",
       "      <th>1</th>\n",
       "      <td>0.002586</td>\n",
       "      <td>0.002328</td>\n",
       "      <td>0.002412</td>\n",
       "      <td>0.002594</td>\n",
       "      <td>0.002775</td>\n",
       "      <td>0.000746</td>\n",
       "      <td>0.002013</td>\n",
       "      <td>0.002446</td>\n",
       "      <td>0.001761</td>\n",
       "      <td>0.002493</td>\n",
       "      <td>...</td>\n",
       "      <td>0.002438</td>\n",
       "      <td>0.002156</td>\n",
       "      <td>0.000656</td>\n",
       "      <td>0.002358</td>\n",
       "      <td>0.003156</td>\n",
       "      <td>0.002830</td>\n",
       "      <td>0.002434</td>\n",
       "      <td>-0.000023</td>\n",
       "      <td>0.002525</td>\n",
       "      <td>0.002744</td>\n",
       "    </tr>\n",
       "    <tr>\n",
       "      <th>2</th>\n",
       "      <td>0.004187</td>\n",
       "      <td>0.004708</td>\n",
       "      <td>0.005195</td>\n",
       "      <td>0.004134</td>\n",
       "      <td>0.004281</td>\n",
       "      <td>0.001104</td>\n",
       "      <td>0.003759</td>\n",
       "      <td>0.004069</td>\n",
       "      <td>-0.002865</td>\n",
       "      <td>0.003997</td>\n",
       "      <td>...</td>\n",
       "      <td>0.003867</td>\n",
       "      <td>0.000578</td>\n",
       "      <td>-0.002348</td>\n",
       "      <td>0.004188</td>\n",
       "      <td>0.006706</td>\n",
       "      <td>0.003694</td>\n",
       "      <td>0.003923</td>\n",
       "      <td>-0.008631</td>\n",
       "      <td>0.004530</td>\n",
       "      <td>0.003911</td>\n",
       "    </tr>\n",
       "    <tr>\n",
       "      <th>3</th>\n",
       "      <td>-0.000038</td>\n",
       "      <td>-0.001738</td>\n",
       "      <td>-0.002111</td>\n",
       "      <td>0.003377</td>\n",
       "      <td>0.000208</td>\n",
       "      <td>-0.054009</td>\n",
       "      <td>-0.001552</td>\n",
       "      <td>-0.002487</td>\n",
       "      <td>-0.005452</td>\n",
       "      <td>-0.000737</td>\n",
       "      <td>...</td>\n",
       "      <td>-0.001253</td>\n",
       "      <td>0.000988</td>\n",
       "      <td>0.015231</td>\n",
       "      <td>-0.001183</td>\n",
       "      <td>-0.003076</td>\n",
       "      <td>0.001543</td>\n",
       "      <td>-0.001600</td>\n",
       "      <td>0.022486</td>\n",
       "      <td>-0.000475</td>\n",
       "      <td>-0.000168</td>\n",
       "    </tr>\n",
       "    <tr>\n",
       "      <th>4</th>\n",
       "      <td>0.002757</td>\n",
       "      <td>0.002088</td>\n",
       "      <td>0.001893</td>\n",
       "      <td>0.005354</td>\n",
       "      <td>0.001261</td>\n",
       "      <td>0.022431</td>\n",
       "      <td>0.003617</td>\n",
       "      <td>0.002637</td>\n",
       "      <td>-0.004056</td>\n",
       "      <td>0.002500</td>\n",
       "      <td>...</td>\n",
       "      <td>0.002422</td>\n",
       "      <td>0.008873</td>\n",
       "      <td>0.012186</td>\n",
       "      <td>0.002702</td>\n",
       "      <td>0.002370</td>\n",
       "      <td>0.005068</td>\n",
       "      <td>0.002285</td>\n",
       "      <td>0.020864</td>\n",
       "      <td>0.002323</td>\n",
       "      <td>0.003067</td>\n",
       "    </tr>\n",
       "  </tbody>\n",
       "</table>\n",
       "<p>5 rows × 17429 columns</p>\n",
       "</div>"
      ],
      "text/plain": [
       "item_i    100002    100003    100005    100007    100018    100021    100025  \\\n",
       "0       0.000171  0.000478  0.000306  0.000154 -0.000764 -0.014531 -0.000894   \n",
       "1       0.002586  0.002328  0.002412  0.002594  0.002775  0.000746  0.002013   \n",
       "2       0.004187  0.004708  0.005195  0.004134  0.004281  0.001104  0.003759   \n",
       "3      -0.000038 -0.001738 -0.002111  0.003377  0.000208 -0.054009 -0.001552   \n",
       "4       0.002757  0.002088  0.001893  0.005354  0.001261  0.022431  0.003617   \n",
       "\n",
       "item_i    100026    100030    100033    ...        99974     99983     99984  \\\n",
       "0       0.000474  0.000176  0.000196    ...     0.000343 -0.002289  0.013369   \n",
       "1       0.002446  0.001761  0.002493    ...     0.002438  0.002156  0.000656   \n",
       "2       0.004069 -0.002865  0.003997    ...     0.003867  0.000578 -0.002348   \n",
       "3      -0.002487 -0.005452 -0.000737    ...    -0.001253  0.000988  0.015231   \n",
       "4       0.002637 -0.004056  0.002500    ...     0.002422  0.008873  0.012186   \n",
       "\n",
       "item_i     99986     99993     99996     99998     99999         ?   ���?���  \n",
       "0       0.000541  0.002599 -0.002128  0.000717  0.010015  0.000529  0.000064  \n",
       "1       0.002358  0.003156  0.002830  0.002434 -0.000023  0.002525  0.002744  \n",
       "2       0.004188  0.006706  0.003694  0.003923 -0.008631  0.004530  0.003911  \n",
       "3      -0.001183 -0.003076  0.001543 -0.001600  0.022486 -0.000475 -0.000168  \n",
       "4       0.002702  0.002370  0.005068  0.002285  0.020864  0.002323  0.003067  \n",
       "\n",
       "[5 rows x 17429 columns]"
      ]
     },
     "execution_count": 520,
     "metadata": {},
     "output_type": "execute_result"
    }
   ],
   "source": [
    "#Make prediction of quantitie for each item the guest has not purchased before and store in DataFrame\n",
    "all_gst_purchase_pred= np.dot(np.dot(U, sigma), Vt) + gst_purchase_mean.reshape(-1,1)\n",
    "preds_df=pd.DataFrame(all_gst_purchase_pred,columns=purchase_svd.columns)\n",
    "preds_df.head()"
   ]
  },
  {
   "cell_type": "code",
   "execution_count": 502,
   "metadata": {
    "collapsed": true
   },
   "outputs": [],
   "source": [
    "#The input parameters includes predictions matrix,guest_id, items data and purchase data\n",
    "#Output is item ids recommendations in DataFrame\n",
    "def recommend_product(preds_df, gst_i, items_data,purchase_data, num_recommendations=5):\n",
    "    \n",
    "    #get the items predictions for the guest and sort\n",
    "    gst_row_index = guest[guest['guest_id']==gst_i].index \n",
    "    sorted_guest_predictions = preds_df.iloc[gst_row_index].sort_values(by=gst_row_index[0],ascending=False,axis=1)\n",
    "    \n",
    "    #get information for given guest id\n",
    "    guest_data = purchase_data[purchase_data['gst_i'] == gst_i]\n",
    "    #merge data from items table using left join\n",
    "    guest_full = guest_data.merge(items_data,how='left',left_on='item_i',right_on='anon_sku').sort_values(['qty'],ascending=False)\n",
    " \n",
    "    #making item recommendation with top k highest predictions that guest has not purchased before \n",
    "    recommendations = (items_data[~items_data['anon_sku'].isin(guest_full['item_i'])].\n",
    "             merge(pd.DataFrame(sorted_guest_predictions.unstack()).reset_index(), how = 'left',left_on = 'anon_sku',\n",
    "                   right_on = 'item_i').\n",
    "             rename(columns = {'level_1': 'Predictions'}).\n",
    "             sort_values('Predictions', ascending = False).iloc[:num_recommendations, :-1])\n",
    "    recommendations['Predictions']=gst_i\n",
    "\n",
    "    return recommendations"
   ]
  },
  {
   "cell_type": "code",
   "execution_count": 506,
   "metadata": {},
   "outputs": [
    {
     "data": {
      "text/html": [
       "<div>\n",
       "<table border=\"1\" class=\"dataframe\">\n",
       "  <thead>\n",
       "    <tr style=\"text-align: right;\">\n",
       "      <th></th>\n",
       "      <th>anon_sku</th>\n",
       "      <th>attr</th>\n",
       "      <th>item_i</th>\n",
       "      <th>Predictions</th>\n",
       "    </tr>\n",
       "  </thead>\n",
       "  <tbody>\n",
       "    <tr>\n",
       "      <th>2</th>\n",
       "      <td>102113</td>\n",
       "      <td>46957 29471 4761 11865 29471 46957 29471 52104...</td>\n",
       "      <td>102113</td>\n",
       "      <td>2639949</td>\n",
       "    </tr>\n",
       "    <tr>\n",
       "      <th>11021</th>\n",
       "      <td>60079</td>\n",
       "      <td>19979 58085 1708 25359 24237 32327 13708 8913 ...</td>\n",
       "      <td>60079</td>\n",
       "      <td>2639949</td>\n",
       "    </tr>\n",
       "    <tr>\n",
       "      <th>11024</th>\n",
       "      <td>66899</td>\n",
       "      <td>13468 22817 5488 11871 56389 60454 9361 35705 ...</td>\n",
       "      <td>66899</td>\n",
       "      <td>2639949</td>\n",
       "    </tr>\n",
       "    <tr>\n",
       "      <th>11028</th>\n",
       "      <td>74994</td>\n",
       "      <td>9177 59974 3808 62960 3296 41126 27065 33565 5...</td>\n",
       "      <td>74994</td>\n",
       "      <td>2639949</td>\n",
       "    </tr>\n",
       "    <tr>\n",
       "      <th>11029</th>\n",
       "      <td>75189</td>\n",
       "      <td>13162 25227 39838 8248 44925 4603 19223 13162 ...</td>\n",
       "      <td>75189</td>\n",
       "      <td>2639949</td>\n",
       "    </tr>\n",
       "    <tr>\n",
       "      <th>11032</th>\n",
       "      <td>80467</td>\n",
       "      <td>57648 44025 34566 60603 34101 24760 4603 16111...</td>\n",
       "      <td>80467</td>\n",
       "      <td>2639949</td>\n",
       "    </tr>\n",
       "    <tr>\n",
       "      <th>11036</th>\n",
       "      <td>85515</td>\n",
       "      <td>60033 16304 27335 19629 17140 14381 40667 3142...</td>\n",
       "      <td>85515</td>\n",
       "      <td>2639949</td>\n",
       "    </tr>\n",
       "    <tr>\n",
       "      <th>11037</th>\n",
       "      <td>85528</td>\n",
       "      <td>56584 18710 48374 22023 31717 25702 38134 4258...</td>\n",
       "      <td>85528</td>\n",
       "      <td>2639949</td>\n",
       "    </tr>\n",
       "    <tr>\n",
       "      <th>11038</th>\n",
       "      <td>87162</td>\n",
       "      <td>5592 42899 17994 2140 29906 8914 4888 6539 498...</td>\n",
       "      <td>87162</td>\n",
       "      <td>2639949</td>\n",
       "    </tr>\n",
       "    <tr>\n",
       "      <th>11040</th>\n",
       "      <td>90399</td>\n",
       "      <td>42905 22591 43795 18320 49207 5068 42056 56105...</td>\n",
       "      <td>90399</td>\n",
       "      <td>2639949</td>\n",
       "    </tr>\n",
       "  </tbody>\n",
       "</table>\n",
       "</div>"
      ],
      "text/plain": [
       "      anon_sku                                               attr  item_i  \\\n",
       "2       102113  46957 29471 4761 11865 29471 46957 29471 52104...  102113   \n",
       "11021    60079  19979 58085 1708 25359 24237 32327 13708 8913 ...   60079   \n",
       "11024    66899  13468 22817 5488 11871 56389 60454 9361 35705 ...   66899   \n",
       "11028    74994  9177 59974 3808 62960 3296 41126 27065 33565 5...   74994   \n",
       "11029    75189  13162 25227 39838 8248 44925 4603 19223 13162 ...   75189   \n",
       "11032    80467  57648 44025 34566 60603 34101 24760 4603 16111...   80467   \n",
       "11036    85515  60033 16304 27335 19629 17140 14381 40667 3142...   85515   \n",
       "11037    85528  56584 18710 48374 22023 31717 25702 38134 4258...   85528   \n",
       "11038    87162  5592 42899 17994 2140 29906 8914 4888 6539 498...   87162   \n",
       "11040    90399  42905 22591 43795 18320 49207 5068 42056 56105...   90399   \n",
       "\n",
       "      Predictions  \n",
       "2         2639949  \n",
       "11021     2639949  \n",
       "11024     2639949  \n",
       "11028     2639949  \n",
       "11029     2639949  \n",
       "11032     2639949  \n",
       "11036     2639949  \n",
       "11037     2639949  \n",
       "11038     2639949  \n",
       "11040     2639949  "
      ]
     },
     "execution_count": 506,
     "metadata": {},
     "output_type": "execute_result"
    }
   ],
   "source": [
    "#make 10 items recomendation for guest id 2639949\n",
    "recommendations=recommend_product(preds_df,'2639949',items,purchase_merge,10)\n",
    "recommendations"
   ]
  },
  {
   "cell_type": "markdown",
   "metadata": {},
   "source": [
    "* Compared with the result from item based recommendation, it is interesting to see the results are different,since there is no explicit features\n",
    "that help to get sense of recommendation results, we will use cross validation to evaluate the model performance in next steps.\n",
    "* I will also investigate the attr feature in the future, which may help to justify the recommendation result"
   ]
  },
  {
   "cell_type": "markdown",
   "metadata": {},
   "source": [
    "### Model evaluation\n"
   ]
  },
  {
   "cell_type": "markdown",
   "metadata": {},
   "source": [
    "In this part, I will split the data into traing and test dataset and make predictions on quantity purchased, then evaluate the models using RMSE(Root Mean Square Error)"
   ]
  },
  {
   "cell_type": "code",
   "execution_count": 468,
   "metadata": {
    "collapsed": true
   },
   "outputs": [],
   "source": [
    "#split the data into train and test data\n",
    "from sklearn import cross_validation as cv\n",
    "train_data, test_data = cv.train_test_split(purchase_merge, test_size=0.25)"
   ]
  },
  {
   "cell_type": "code",
   "execution_count": 469,
   "metadata": {},
   "outputs": [
    {
     "data": {
      "text/plain": [
       "<14666x1000 sparse matrix of type '<type 'numpy.float64'>'\n",
       "\twith 28273 stored elements in Compressed Sparse Row format>"
      ]
     },
     "execution_count": 469,
     "metadata": {},
     "output_type": "execute_result"
    }
   ],
   "source": [
    "#Convert the data into matrix with row representing item id, and columns represent guest_id\n",
    "train_pivot=train_data.pivot(index='item_i',columns='gst_i',values='qty').fillna(0)\n",
    "#convert to sparse matrix\n",
    "train_matrix=csr_matrix(train_pivot.values)\n",
    "train_matrix\n",
    "\n",
    "#Convert the data into matrix with row representing item id, and columns represent guest_id\n",
    "test_pivot=train_data.pivot(index='item_i',columns='gst_i',values='qty').fillna(0)\n",
    "#convert to sparse matrix\n",
    "test_matrix=csr_matrix(train_pivot.values)\n",
    "test_matrix"
   ]
  },
  {
   "cell_type": "code",
   "execution_count": 470,
   "metadata": {
    "collapsed": true
   },
   "outputs": [],
   "source": [
    "from sklearn.metrics.pairwise import pairwise_distances\n",
    "#calculate the similarity using cosine between item vectors\n",
    "item_similarity = pairwise_distances(train_matrix, metric='cosine')"
   ]
  },
  {
   "cell_type": "code",
   "execution_count": 510,
   "metadata": {},
   "outputs": [],
   "source": [
    "#define the function to predict the qty on test dataset\n",
    "#input parameters include dataset that is used to make prediction and similarity\n",
    "#output is the prediction on test dataset\n",
    "def predict(purchase, similarity):\n",
    "    mean_item_qty= purchase.mean(axis=1)\n",
    "    purchase_diff = (purchase - mean_item_qty)\n",
    "    pred = mean_item_qty + similarity.dot(purchase_diff) / np.array([np.abs(similarity).sum(axis=1)]).T\n",
    "    return pred"
   ]
  },
  {
   "cell_type": "code",
   "execution_count": 471,
   "metadata": {
    "collapsed": true
   },
   "outputs": [],
   "source": [
    "def predict(purchase, similarity, type='guest'):\n",
    "    if type == 'item':\n",
    "        mean_item_rating = purchase.mean(axis=1)\n",
    "        #You use np.newaxis so that mean_user_rating has same format as ratings\n",
    "        purchase_diff = (purchase - mean_item_rating)\n",
    "        pred = mean_item_rating + similarity.dot(purchase_diff) / np.array([np.abs(similarity).sum(axis=1)]).T\n",
    "    elif type == 'guest':\n",
    "        pred = purchase.dot(similarity) / np.array([np.abs(similarity).sum(axis=1)])\n",
    "    return pred"
   ]
  },
  {
   "cell_type": "code",
   "execution_count": 473,
   "metadata": {
    "collapsed": true
   },
   "outputs": [],
   "source": [
    "#define function to calcualte the rmse between predicted values and true values\n",
    "#input parameters include predidctions and true values\n",
    "from sklearn.metrics import mean_squared_error\n",
    "from math import sqrt\n",
    "def rmse(prediction, ground_truth):\n",
    "    return sqrt(mean_squared_error(prediction, ground_truth.toarray()))"
   ]
  },
  {
   "cell_type": "code",
   "execution_count": 516,
   "metadata": {},
   "outputs": [
    {
     "name": "stdout",
     "output_type": "stream",
     "text": [
      "Item-based CF RMSE: 0.0777105683105\n"
     ]
    }
   ],
   "source": [
    "item_prediction=predict(test_matrix,item_similarity)\n",
    "print 'Item-based CF RMSE: ' + str(rmse(item_prediction, test_matrix))"
   ]
  },
  {
   "cell_type": "code",
   "execution_count": 518,
   "metadata": {},
   "outputs": [
    {
     "name": "stdout",
     "output_type": "stream",
     "text": [
      "Model based CF RMSE: 0.0596617421314\n"
     ]
    }
   ],
   "source": [
    "import scipy.sparse as sp\n",
    "from scipy.sparse.linalg import svds\n",
    "\n",
    "#get the rmse of model\n",
    "u, s, vt = svds(train_matrix, k = 50)\n",
    "s_diag_matrix=np.diag(s)\n",
    "prediction = np.dot(np.dot(u, s_diag_matrix), vt)\n",
    "print 'Model based CF RMSE: ' + str(rmse(prediction, test_matrix))"
   ]
  },
  {
   "cell_type": "markdown",
   "metadata": {},
   "source": [
    "* Juding from the result, it seems like Model based method performs better than item based methods with relatively RMSE value, however,it takes more time on matrix computation\n",
    "* Another metric I would like to try is to calcualte the similarities between recommendation items and items guest have purchased, then make comparision between models,for time concern,I will try in futher work"
   ]
  },
  {
   "cell_type": "markdown",
   "metadata": {},
   "source": [
    "### Further work"
   ]
  },
  {
   "cell_type": "markdown",
   "metadata": {},
   "source": [
    "* I think more feature engineering will be performed in purchase time and attributes of items, we can create such as day_of_week, holiday by extracting\n",
    "information from datetime, which can be used to explore guest purchase pattern or preference.Also I will extract more information from attributes in items,though most values are a list of numbers and don not convey significant meaings.Hopefully can build contented\n",
    "based recommendation model based on attributes features \n",
    "* I will also try to combine the predictions(linear or sequential) of content based and model based collaborative filtering method, set different weights to see the performances, I would like to explore and improve the both methods if I use linear combination to determine the weights "
   ]
  },
  {
   "cell_type": "code",
   "execution_count": null,
   "metadata": {
    "collapsed": true
   },
   "outputs": [],
   "source": []
  }
 ],
 "metadata": {
  "kernelspec": {
   "display_name": "Python 3",
   "language": "python",
   "name": "python3"
  },
  "language_info": {
   "codemirror_mode": {
    "name": "ipython",
    "version": 3
   },
   "file_extension": ".py",
   "mimetype": "text/x-python",
   "name": "python",
   "nbconvert_exporter": "python",
   "pygments_lexer": "ipython3",
   "version": "3.6.1"
  }
 },
 "nbformat": 4,
 "nbformat_minor": 2
}
